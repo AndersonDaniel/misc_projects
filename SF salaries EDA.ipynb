{
 "cells": [
  {
   "cell_type": "code",
   "execution_count": 22,
   "metadata": {},
   "outputs": [],
   "source": [
    "import pandas as pd\n",
    "import matplotlib.pyplot as plt\n",
    "import seaborn as sns"
   ]
  },
  {
   "cell_type": "code",
   "execution_count": 13,
   "metadata": {},
   "outputs": [
    {
     "name": "stdout",
     "output_type": "stream",
     "text": [
      "(148650, 13)\n"
     ]
    },
    {
     "name": "stderr",
     "output_type": "stream",
     "text": [
      "/Users/andersource/miniconda3/envs/edu/lib/python3.7/site-packages/IPython/core/interactiveshell.py:3072: DtypeWarning: Columns (3,4,5,6,12) have mixed types.Specify dtype option on import or set low_memory=False.\n",
      "  interactivity=interactivity, compiler=compiler, result=result)\n"
     ]
    },
    {
     "data": {
      "text/html": [
       "<div>\n",
       "<style scoped>\n",
       "    .dataframe tbody tr th:only-of-type {\n",
       "        vertical-align: middle;\n",
       "    }\n",
       "\n",
       "    .dataframe tbody tr th {\n",
       "        vertical-align: top;\n",
       "    }\n",
       "\n",
       "    .dataframe thead th {\n",
       "        text-align: right;\n",
       "    }\n",
       "</style>\n",
       "<table border=\"1\" class=\"dataframe\">\n",
       "  <thead>\n",
       "    <tr style=\"text-align: right;\">\n",
       "      <th></th>\n",
       "      <th>Id</th>\n",
       "      <th>EmployeeName</th>\n",
       "      <th>JobTitle</th>\n",
       "      <th>BasePay</th>\n",
       "      <th>OvertimePay</th>\n",
       "      <th>OtherPay</th>\n",
       "      <th>Benefits</th>\n",
       "      <th>TotalPay</th>\n",
       "      <th>TotalPayBenefits</th>\n",
       "      <th>Year</th>\n",
       "      <th>Notes</th>\n",
       "      <th>Agency</th>\n",
       "      <th>Status</th>\n",
       "    </tr>\n",
       "  </thead>\n",
       "  <tbody>\n",
       "    <tr>\n",
       "      <th>0</th>\n",
       "      <td>1</td>\n",
       "      <td>NATHANIEL FORD</td>\n",
       "      <td>GENERAL MANAGER-METROPOLITAN TRANSIT AUTHORITY</td>\n",
       "      <td>167411</td>\n",
       "      <td>0</td>\n",
       "      <td>400184</td>\n",
       "      <td>NaN</td>\n",
       "      <td>567595.43</td>\n",
       "      <td>567595.43</td>\n",
       "      <td>2011</td>\n",
       "      <td>NaN</td>\n",
       "      <td>San Francisco</td>\n",
       "      <td>NaN</td>\n",
       "    </tr>\n",
       "    <tr>\n",
       "      <th>1</th>\n",
       "      <td>2</td>\n",
       "      <td>GARY JIMENEZ</td>\n",
       "      <td>CAPTAIN III (POLICE DEPARTMENT)</td>\n",
       "      <td>155966</td>\n",
       "      <td>245132</td>\n",
       "      <td>137811</td>\n",
       "      <td>NaN</td>\n",
       "      <td>538909.28</td>\n",
       "      <td>538909.28</td>\n",
       "      <td>2011</td>\n",
       "      <td>NaN</td>\n",
       "      <td>San Francisco</td>\n",
       "      <td>NaN</td>\n",
       "    </tr>\n",
       "    <tr>\n",
       "      <th>2</th>\n",
       "      <td>3</td>\n",
       "      <td>ALBERT PARDINI</td>\n",
       "      <td>CAPTAIN III (POLICE DEPARTMENT)</td>\n",
       "      <td>212739</td>\n",
       "      <td>106088</td>\n",
       "      <td>16452.6</td>\n",
       "      <td>NaN</td>\n",
       "      <td>335279.91</td>\n",
       "      <td>335279.91</td>\n",
       "      <td>2011</td>\n",
       "      <td>NaN</td>\n",
       "      <td>San Francisco</td>\n",
       "      <td>NaN</td>\n",
       "    </tr>\n",
       "    <tr>\n",
       "      <th>3</th>\n",
       "      <td>4</td>\n",
       "      <td>CHRISTOPHER CHONG</td>\n",
       "      <td>WIRE ROPE CABLE MAINTENANCE MECHANIC</td>\n",
       "      <td>77916</td>\n",
       "      <td>56120.7</td>\n",
       "      <td>198307</td>\n",
       "      <td>NaN</td>\n",
       "      <td>332343.61</td>\n",
       "      <td>332343.61</td>\n",
       "      <td>2011</td>\n",
       "      <td>NaN</td>\n",
       "      <td>San Francisco</td>\n",
       "      <td>NaN</td>\n",
       "    </tr>\n",
       "    <tr>\n",
       "      <th>4</th>\n",
       "      <td>5</td>\n",
       "      <td>PATRICK GARDNER</td>\n",
       "      <td>DEPUTY CHIEF OF DEPARTMENT,(FIRE DEPARTMENT)</td>\n",
       "      <td>134402</td>\n",
       "      <td>9737</td>\n",
       "      <td>182235</td>\n",
       "      <td>NaN</td>\n",
       "      <td>326373.19</td>\n",
       "      <td>326373.19</td>\n",
       "      <td>2011</td>\n",
       "      <td>NaN</td>\n",
       "      <td>San Francisco</td>\n",
       "      <td>NaN</td>\n",
       "    </tr>\n",
       "  </tbody>\n",
       "</table>\n",
       "</div>"
      ],
      "text/plain": [
       "   Id       EmployeeName                                        JobTitle  \\\n",
       "0   1     NATHANIEL FORD  GENERAL MANAGER-METROPOLITAN TRANSIT AUTHORITY   \n",
       "1   2       GARY JIMENEZ                 CAPTAIN III (POLICE DEPARTMENT)   \n",
       "2   3     ALBERT PARDINI                 CAPTAIN III (POLICE DEPARTMENT)   \n",
       "3   4  CHRISTOPHER CHONG            WIRE ROPE CABLE MAINTENANCE MECHANIC   \n",
       "4   5    PATRICK GARDNER    DEPUTY CHIEF OF DEPARTMENT,(FIRE DEPARTMENT)   \n",
       "\n",
       "  BasePay OvertimePay OtherPay Benefits   TotalPay  TotalPayBenefits  Year  \\\n",
       "0  167411           0   400184      NaN  567595.43         567595.43  2011   \n",
       "1  155966      245132   137811      NaN  538909.28         538909.28  2011   \n",
       "2  212739      106088  16452.6      NaN  335279.91         335279.91  2011   \n",
       "3   77916     56120.7   198307      NaN  332343.61         332343.61  2011   \n",
       "4  134402        9737   182235      NaN  326373.19         326373.19  2011   \n",
       "\n",
       "   Notes         Agency Status  \n",
       "0    NaN  San Francisco    NaN  \n",
       "1    NaN  San Francisco    NaN  \n",
       "2    NaN  San Francisco    NaN  \n",
       "3    NaN  San Francisco    NaN  \n",
       "4    NaN  San Francisco    NaN  "
      ]
     },
     "execution_count": 13,
     "metadata": {},
     "output_type": "execute_result"
    }
   ],
   "source": [
    "df = pd.read_csv('SF_salaries.csv')\n",
    "df = df[df['BasePay'] != 'Not Provided']\n",
    "print(df.shape)\n",
    "df.head()"
   ]
  },
  {
   "cell_type": "code",
   "execution_count": 16,
   "metadata": {},
   "outputs": [],
   "source": [
    "for col in ['BasePay', 'OvertimePay', 'OtherPay', 'Benefits']:\n",
    "    df[col] = df[col].astype(float)"
   ]
  },
  {
   "cell_type": "code",
   "execution_count": 17,
   "metadata": {},
   "outputs": [
    {
     "data": {
      "text/html": [
       "<div>\n",
       "<style scoped>\n",
       "    .dataframe tbody tr th:only-of-type {\n",
       "        vertical-align: middle;\n",
       "    }\n",
       "\n",
       "    .dataframe tbody tr th {\n",
       "        vertical-align: top;\n",
       "    }\n",
       "\n",
       "    .dataframe thead th {\n",
       "        text-align: right;\n",
       "    }\n",
       "</style>\n",
       "<table border=\"1\" class=\"dataframe\">\n",
       "  <thead>\n",
       "    <tr style=\"text-align: right;\">\n",
       "      <th></th>\n",
       "      <th>Id</th>\n",
       "      <th>BasePay</th>\n",
       "      <th>OvertimePay</th>\n",
       "      <th>OtherPay</th>\n",
       "      <th>Benefits</th>\n",
       "      <th>TotalPay</th>\n",
       "      <th>TotalPayBenefits</th>\n",
       "      <th>Year</th>\n",
       "      <th>Notes</th>\n",
       "    </tr>\n",
       "  </thead>\n",
       "  <tbody>\n",
       "    <tr>\n",
       "      <th>count</th>\n",
       "      <td>148650.000000</td>\n",
       "      <td>148045.000000</td>\n",
       "      <td>148650.000000</td>\n",
       "      <td>148650.000000</td>\n",
       "      <td>112491.000000</td>\n",
       "      <td>148650.000000</td>\n",
       "      <td>148650.000000</td>\n",
       "      <td>148650.000000</td>\n",
       "      <td>0.0</td>\n",
       "    </tr>\n",
       "    <tr>\n",
       "      <th>mean</th>\n",
       "      <td>74325.500047</td>\n",
       "      <td>66325.448840</td>\n",
       "      <td>5066.059886</td>\n",
       "      <td>3648.767297</td>\n",
       "      <td>25007.893151</td>\n",
       "      <td>74770.333901</td>\n",
       "      <td>93695.075969</td>\n",
       "      <td>2012.522603</td>\n",
       "      <td>NaN</td>\n",
       "    </tr>\n",
       "    <tr>\n",
       "      <th>std</th>\n",
       "      <td>42911.703176</td>\n",
       "      <td>42764.635495</td>\n",
       "      <td>11454.380559</td>\n",
       "      <td>8056.601866</td>\n",
       "      <td>15402.215858</td>\n",
       "      <td>50516.196009</td>\n",
       "      <td>62792.497391</td>\n",
       "      <td>1.117526</td>\n",
       "      <td>NaN</td>\n",
       "    </tr>\n",
       "    <tr>\n",
       "      <th>min</th>\n",
       "      <td>1.000000</td>\n",
       "      <td>-166.010000</td>\n",
       "      <td>-0.010000</td>\n",
       "      <td>-7058.590000</td>\n",
       "      <td>-33.890000</td>\n",
       "      <td>-618.130000</td>\n",
       "      <td>-618.130000</td>\n",
       "      <td>2011.000000</td>\n",
       "      <td>NaN</td>\n",
       "    </tr>\n",
       "    <tr>\n",
       "      <th>25%</th>\n",
       "      <td>37163.250000</td>\n",
       "      <td>33588.200000</td>\n",
       "      <td>0.000000</td>\n",
       "      <td>0.000000</td>\n",
       "      <td>11535.395000</td>\n",
       "      <td>36169.955000</td>\n",
       "      <td>44073.337500</td>\n",
       "      <td>2012.000000</td>\n",
       "      <td>NaN</td>\n",
       "    </tr>\n",
       "    <tr>\n",
       "      <th>50%</th>\n",
       "      <td>74325.500000</td>\n",
       "      <td>65007.450000</td>\n",
       "      <td>0.000000</td>\n",
       "      <td>811.270000</td>\n",
       "      <td>28628.620000</td>\n",
       "      <td>71427.240000</td>\n",
       "      <td>92406.020000</td>\n",
       "      <td>2013.000000</td>\n",
       "      <td>NaN</td>\n",
       "    </tr>\n",
       "    <tr>\n",
       "      <th>75%</th>\n",
       "      <td>111487.750000</td>\n",
       "      <td>94691.050000</td>\n",
       "      <td>4658.175000</td>\n",
       "      <td>4236.065000</td>\n",
       "      <td>35566.855000</td>\n",
       "      <td>105842.960000</td>\n",
       "      <td>132877.992500</td>\n",
       "      <td>2014.000000</td>\n",
       "      <td>NaN</td>\n",
       "    </tr>\n",
       "    <tr>\n",
       "      <th>max</th>\n",
       "      <td>148654.000000</td>\n",
       "      <td>319275.010000</td>\n",
       "      <td>245131.880000</td>\n",
       "      <td>400184.250000</td>\n",
       "      <td>96570.660000</td>\n",
       "      <td>567595.430000</td>\n",
       "      <td>567595.430000</td>\n",
       "      <td>2014.000000</td>\n",
       "      <td>NaN</td>\n",
       "    </tr>\n",
       "  </tbody>\n",
       "</table>\n",
       "</div>"
      ],
      "text/plain": [
       "                  Id        BasePay    OvertimePay       OtherPay  \\\n",
       "count  148650.000000  148045.000000  148650.000000  148650.000000   \n",
       "mean    74325.500047   66325.448840    5066.059886    3648.767297   \n",
       "std     42911.703176   42764.635495   11454.380559    8056.601866   \n",
       "min         1.000000    -166.010000      -0.010000   -7058.590000   \n",
       "25%     37163.250000   33588.200000       0.000000       0.000000   \n",
       "50%     74325.500000   65007.450000       0.000000     811.270000   \n",
       "75%    111487.750000   94691.050000    4658.175000    4236.065000   \n",
       "max    148654.000000  319275.010000  245131.880000  400184.250000   \n",
       "\n",
       "            Benefits       TotalPay  TotalPayBenefits           Year  Notes  \n",
       "count  112491.000000  148650.000000     148650.000000  148650.000000    0.0  \n",
       "mean    25007.893151   74770.333901      93695.075969    2012.522603    NaN  \n",
       "std     15402.215858   50516.196009      62792.497391       1.117526    NaN  \n",
       "min       -33.890000    -618.130000       -618.130000    2011.000000    NaN  \n",
       "25%     11535.395000   36169.955000      44073.337500    2012.000000    NaN  \n",
       "50%     28628.620000   71427.240000      92406.020000    2013.000000    NaN  \n",
       "75%     35566.855000  105842.960000     132877.992500    2014.000000    NaN  \n",
       "max     96570.660000  567595.430000     567595.430000    2014.000000    NaN  "
      ]
     },
     "execution_count": 17,
     "metadata": {},
     "output_type": "execute_result"
    }
   ],
   "source": [
    "df.describe()"
   ]
  },
  {
   "cell_type": "code",
   "execution_count": 18,
   "metadata": {},
   "outputs": [
    {
     "data": {
      "text/plain": [
       "(2158,)"
      ]
     },
     "execution_count": 18,
     "metadata": {},
     "output_type": "execute_result"
    }
   ],
   "source": [
    "df['JobTitle'].drop_duplicates().shape"
   ]
  },
  {
   "cell_type": "code",
   "execution_count": 20,
   "metadata": {},
   "outputs": [
    {
     "data": {
      "text/plain": [
       "transit operator                9424\n",
       "special nurse                   5791\n",
       "registered nurse                4955\n",
       "custodian                       3214\n",
       "firefighter                     3153\n",
       "recreation leader               2663\n",
       "deputy sheriff                  2618\n",
       "public svc aide-public works    2518\n",
       "police officer 3                2421\n",
       "patient care assistant          1945\n",
       "public service trainee          1656\n",
       "attorney (civil/criminal)       1503\n",
       "police officer                  1476\n",
       "porter                          1465\n",
       "general laborer                 1410\n",
       "gardener                        1187\n",
       "police officer 2                1141\n",
       "parking control officer         1140\n",
       "library page                    1107\n",
       "senior clerk                    1064\n",
       "Name: JobTitle, dtype: int64"
      ]
     },
     "execution_count": 20,
     "metadata": {},
     "output_type": "execute_result"
    }
   ],
   "source": [
    "df['JobTitle'].str.lower().value_counts()[:20]"
   ]
  },
  {
   "cell_type": "code",
   "execution_count": 23,
   "metadata": {},
   "outputs": [
    {
     "data": {
      "image/png": "[encoded data removed]",
      "text/plain": [
       "<Figure size 576x360 with 1 Axes>"
      ]
     },
     "metadata": {
      "needs_background": "light"
     },
     "output_type": "display_data"
    }
   ],
   "source": [
    "plt.subplots(figsize=(8, 5))\n",
    "sns.distplot(df['BasePay'])\n",
    "plt.show()"
   ]
  },
  {
   "cell_type": "code",
   "execution_count": 24,
   "metadata": {},
   "outputs": [
    {
     "data": {
      "image/png": "[encoded data removed]",
      "text/plain": [
       "<Figure size 576x360 with 1 Axes>"
      ]
     },
     "metadata": {
      "needs_background": "light"
     },
     "output_type": "display_data"
    }
   ],
   "source": [
    "plt.subplots(figsize=(8, 5))\n",
    "sns.countplot(df['Year'])\n",
    "plt.show()"
   ]
  },
  {
   "cell_type": "code",
   "execution_count": 26,
   "metadata": {},
   "outputs": [],
   "source": [
    "pay_by_year = df.groupby('Year').agg(mean_basepay=('BasePay', 'mean')).reset_index(drop=False)"
   ]
  },
  {
   "cell_type": "code",
   "execution_count": 29,
   "metadata": {},
   "outputs": [
    {
     "data": {
      "image/png": "[encoded data removed]",
      "text/plain": [
       "<Figure size 576x360 with 1 Axes>"
      ]
     },
     "metadata": {
      "needs_background": "light"
     },
     "output_type": "display_data"
    }
   ],
   "source": [
    "fig, ax = plt.subplots(figsize=(8, 5))\n",
    "ax.plot(pay_by_year['Year'], pay_by_year['mean_basepay'])\n",
    "plt.show()"
   ]
  },
  {
   "cell_type": "code",
   "execution_count": 30,
   "metadata": {},
   "outputs": [
    {
     "data": {
      "image/png": "[encoded data removed]",
      "text/plain": [
       "<Figure size 576x360 with 1 Axes>"
      ]
     },
     "metadata": {
      "needs_background": "light"
     },
     "output_type": "display_data"
    }
   ],
   "source": [
    "plt.subplots(figsize=(8, 5))\n",
    "sns.lineplot(data=df, x='Year', y='BasePay')\n",
    "plt.show()"
   ]
  },
  {
   "cell_type": "code",
   "execution_count": 32,
   "metadata": {},
   "outputs": [
    {
     "data": {
      "text/plain": [
       "13"
      ]
     },
     "execution_count": 32,
     "metadata": {},
     "output_type": "execute_result"
    }
   ],
   "source": [
    "df['EmployeeName'].value_counts().max()"
   ]
  },
  {
   "cell_type": "code",
   "execution_count": null,
   "metadata": {},
   "outputs": [],
   "source": []
  }
 ],
 "metadata": {
  "kernelspec": {
   "display_name": "Python 3",
   "language": "python",
   "name": "python3"
  },
  "language_info": {
   "codemirror_mode": {
    "name": "ipython",
    "version": 3
   },
   "file_extension": ".py",
   "mimetype": "text/x-python",
   "name": "python",
   "nbconvert_exporter": "python",
   "pygments_lexer": "ipython3",
   "version": "3.7.7"
  }
 },
 "nbformat": 4,
 "nbformat_minor": 4
}
